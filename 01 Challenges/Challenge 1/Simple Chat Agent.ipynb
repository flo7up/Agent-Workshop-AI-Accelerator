{
 "cells": [
  {
   "cell_type": "markdown",
   "metadata": {},
   "source": [
    "# Step 1: Authentication"
   ]
  },
  {
   "cell_type": "markdown",
   "metadata": {},
   "source": [
    "```markdown\n",
    "# Overview\n",
    "This is the first of three challenges to learn about Azure AI Agent Service. \n",
    "You will create a simple conversational AI agent using Azure AI Projects. \n",
    "This agent will engage in a basic conversation without any tools or external integrations.\n",
    "\n",
    "## You will:\n",
    "- Set up an Azure AI Agent.\n",
    "- Allow the user to chat with the agent interactively.\n",
    "- Experiment with modifying the agent's behavior.\n",
    "\n",
    "## Task\n",
    "Try modifying the `instructions` given to the agent and experiment with different parameters, such as the model used (`gpt-4o-mini`) or the way responses are structured. \n",
    "See how the agent’s responses change based on different instructions!\n",
    "```"
   ]
  },
  {
   "cell_type": "code",
   "execution_count": 1,
   "metadata": {},
   "outputs": [
    {
     "name": "stdout",
     "output_type": "stream",
     "text": [
      "Environment variables loaded successfully.\n"
     ]
    }
   ],
   "source": [
    "import os\n",
    "from azure.ai.projects import AIProjectClient\n",
    "from azure.identity import AzureCliCredential\n",
    "from dotenv import load_dotenv\n",
    "from pathlib import Path\n",
    "\n",
    "# ---------------------------------------------------------------------------\n",
    "# Load Environment Variables\n",
    "# ---------------------------------------------------------------------------\n",
    "\n",
    "# Load environment variables from the .env file\n",
    "env_path = Path().resolve().parent.parent / \".env\"\n",
    "load_dotenv(dotenv_path=env_path)\n",
    "\n",
    "# Retrieve required environment variables\n",
    "PROJECT_CONNECTION_STRING = os.getenv(\"Azure_AI_PROJECT_CONNECTION_STRING\")\n",
    "\n",
    "# Ensure that required variables are set\n",
    "if not PROJECT_CONNECTION_STRING:\n",
    "    raise ValueError(\"PROJECT_CONNECTION_STRING is not set in the .env file.\")\n",
    "print(\"Environment variables loaded successfully.\")"
   ]
  },
  {
   "cell_type": "markdown",
   "metadata": {},
   "source": [
    "# Step 2: Defining and Testing the Agent"
   ]
  },
  {
   "cell_type": "markdown",
   "metadata": {},
   "source": [
    "```markdown\n",
    "Next we define the agent. We won't add any tools yet. This is merely for validating that we have set up the correct keys and can call the service.\n",
    "Each agent starts in a thread. Threads keep track of the conversation history and the tools available to an agent. We can manage threads via their thread id.\n",
    "\n",
    "```"
   ]
  },
  {
   "cell_type": "code",
   "execution_count": 2,
   "metadata": {},
   "outputs": [
    {
     "name": "stdout",
     "output_type": "stream",
     "text": [
      "Created thread, thread ID: thread_jO0EEuH0efh4ufIDg0J0tz5t\n",
      "Type 'exit' or 'quit' to end the conversation.\n",
      "Please enter your message:\n",
      "Assistant: Hello! How can I assist you today?\n",
      "Goodbye!\n"
     ]
    }
   ],
   "source": [
    "# ---------------------------------------------------------------------------\n",
    "# Prepare the tool for the Azure AI Agent service.\n",
    "# ---------------------------------------------------------------------------\n",
    "\n",
    "\n",
    "\"\"\"\n",
    "Initializes and runs a simple Azure AI Agent for interactive conversation.\n",
    "\"\"\"\n",
    "# Create the Azure AI Projects client using Azure CLI authentication\n",
    "client = AIProjectClient.from_connection_string(\n",
    "    credential=AzureCliCredential(),\n",
    "    conn_str=PROJECT_CONNECTION_STRING,\n",
    ")\n",
    "\n",
    "# Instructions for the agent\n",
    "instructions = \"\"\"\n",
    "You are a helpful AI assistant. Engage in a conversation and provide informative responses.\n",
    "\"\"\"\n",
    "\n",
    "with client:\n",
    "    # Create the agent using a predefined model (e.g., gpt-4o-mini)\n",
    "    # Option: Experiment with a different model such as gpt-4o (make sure the model is available under this name).\n",
    "    agent = client.agents.create_agent(\n",
    "        model=\"gpt-4o-mini\",  # Change to \"gpt-4\" or another supported model to see differences.\n",
    "        name=\"chat-agent\",\n",
    "        instructions=instructions\n",
    "    )\n",
    "\n",
    "    # Start a new conversation thread\n",
    "    # This thread holds the conversation history. By default, all messages accumulate here.\n",
    "    thread = client.agents.create_thread()\n",
    "    # store thread id to csv\n",
    "    thread_id = thread.id\n",
    "    print(f\"Created thread, thread ID: {thread_id}\")\n",
    "    print(\"Type 'exit' or 'quit' to end the conversation.\")\n",
    "    print(\"Please enter your message:\")\n",
    "    import time\n",
    "\n",
    "    last_message_id = None  # Store the last processed message ID\n",
    "\n",
    "    while True:\n",
    "        user_input = input(\"You: \")\n",
    "\n",
    "        if user_input.lower() in [\"exit\", \"quit\"]:\n",
    "            print(\"Goodbye!\")\n",
    "            break\n",
    "\n",
    "        # Send user message\n",
    "        client.agents.create_message(\n",
    "            thread_id=thread.id,\n",
    "            role=\"user\",\n",
    "            content=user_input\n",
    "        )\n",
    "\n",
    "        # Process the conversation\n",
    "        run = client.agents.create_and_process_run(\n",
    "            thread_id=thread.id,\n",
    "            assistant_id=agent.id\n",
    "        )\n",
    "\n",
    "        # Wait for the run to complete\n",
    "        while run.status not in [\"completed\", \"failed\"]:\n",
    "            time.sleep(1)\n",
    "            run = client.agents.get_run(thread_id=thread.id, run_id=run.id)\n",
    "\n",
    "        if run.status == \"failed\":\n",
    "            print(\"Assistant: Sorry, I encountered an error.\")\n",
    "            continue\n",
    "\n",
    "        # Retrieve latest messages\n",
    "        messages = client.agents.list_messages(thread_id=thread.id)[\"data\"]\n",
    "\n",
    "        # Find the latest assistant message (skip already printed ones)\n",
    "        for msg in sorted(messages, key=lambda x: x[\"created_at\"], reverse=True):\n",
    "            if msg[\"role\"] == \"assistant\" and msg[\"id\"] != last_message_id:\n",
    "                last_message_id = msg[\"id\"]  # Update last processed message ID\n",
    "                text_content = next(\n",
    "                    (part[\"text\"][\"value\"] for part in msg[\"content\"] if part[\"type\"] == \"text\"), None\n",
    "                )\n",
    "                if text_content:\n",
    "                    print(\"Assistant:\", text_content)\n",
    "                break  # Stop after printing the latest message\n",
    "\n",
    "                \n",
    "    # Cleanup: Delete the agent after execution\n",
    "    client.agents.delete_agent(agent.id)\n",
    "\n"
   ]
  },
  {
   "cell_type": "markdown",
   "metadata": {},
   "source": [
    "# Step 3: Retrieve the latest assistant message"
   ]
  },
  {
   "cell_type": "markdown",
   "metadata": {},
   "source": [
    "```markdown\n",
    "To resume a conversation you can simply use the ID of the thread\n",
    "This is also useful for debugging and logging.\n",
    "```"
   ]
  },
  {
   "cell_type": "code",
   "execution_count": 3,
   "metadata": {},
   "outputs": [
    {
     "name": "stdout",
     "output_type": "stream",
     "text": [
      "retrieving messages for thread id:  thread_jO0EEuH0efh4ufIDg0J0tz5t\n",
      "MessageRole.USER {'type': 'text', 'text': {'value': 'hi', 'annotations': []}}\n",
      "MessageRole.AGENT {'type': 'text', 'text': {'value': 'Hello! How can I assist you today?', 'annotations': []}}\n"
     ]
    }
   ],
   "source": [
    "client = AIProjectClient.from_connection_string(\n",
    "        credential=AzureCliCredential(),\n",
    "        conn_str=PROJECT_CONNECTION_STRING,\n",
    "    )\n",
    "    \n",
    "print(\"retrieving messages for thread id: \", thread_id)\n",
    "with client:\n",
    "        # Create the agent using a predefined model (e.g., gpt-4o-mini)\n",
    "        # Option: Experiment with a different model such as gpt-4o (make sure the model is available under this name).\n",
    "\n",
    "    messages = client.agents.list_messages(thread_id=thread_id)\n",
    "    if len(messages.data) == 0:\n",
    "        print(\"No messages found.\")\n",
    "        exit(0)\n",
    "    # The messages are following in the reverse order,\n",
    "    # we will iterate them and output only text contents.\n",
    "    for data_point in reversed(messages.data):\n",
    "        last_message_content = data_point.content[-1]\n",
    "        print(data_point.role, last_message_content)\n"
   ]
  },
  {
   "cell_type": "code",
   "execution_count": 4,
   "metadata": {},
   "outputs": [],
   "source": [
    "# this resumes an existing thread\n",
    "client = AIProjectClient.from_connection_string(\n",
    "        credential=AzureCliCredential(),\n",
    "        conn_str=PROJECT_CONNECTION_STRING,\n",
    "    )\n",
    "thread = client.agents.get_thread(thread_id)"
   ]
  }
 ],
 "metadata": {
  "kernelspec": {
   "display_name": "base",
   "language": "python",
   "name": "python3"
  },
  "language_info": {
   "codemirror_mode": {
    "name": "ipython",
    "version": 3
   },
   "file_extension": ".py",
   "mimetype": "text/x-python",
   "name": "python",
   "nbconvert_exporter": "python",
   "pygments_lexer": "ipython3",
   "version": "3.11.5"
  }
 },
 "nbformat": 4,
 "nbformat_minor": 2
}
