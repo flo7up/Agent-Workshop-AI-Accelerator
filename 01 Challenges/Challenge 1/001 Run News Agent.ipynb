{
 "cells": [
  {
   "cell_type": "markdown",
   "metadata": {},
   "source": [
    "# Step 1: Authentication"
   ]
  },
  {
   "cell_type": "markdown",
   "metadata": {},
   "source": [
    "```markdown\n",
    "# Overview\n",
    "This is the first of three challenges to learn about Azure AI Agent Service. \n",
    "You will create a simple conversational AI agent using Azure AI Projects. \n",
    "This agent will engage in a basic conversation without any tools or external integrations.\n",
    "\n",
    "## You will:\n",
    "- Set up an Azure AI Agent.\n",
    "- Allow the user to chat with the agent interactively.\n",
    "- Experiment with modifying the agent's behavior.\n",
    "\n",
    "## Task\n",
    "Try modifying the `instructions` given to the agent and experiment with different parameters, such as the model used (`gpt-4o-mini`) or the way responses are structured. \n",
    "See how the agent’s responses change based on different instructions!\n",
    "```"
   ]
  },
  {
   "cell_type": "code",
   "execution_count": 2,
   "metadata": {},
   "outputs": [
    {
     "name": "stdout",
     "output_type": "stream",
     "text": [
      "Environment variables loaded successfully.\n"
     ]
    }
   ],
   "source": [
    "import os\n",
    "from azure.ai.projects import AIProjectClient\n",
    "from azure.identity import AzureCliCredential\n",
    "from dotenv import load_dotenv\n",
    "from pathlib import Path\n",
    "\n",
    "# ---------------------------------------------------------------------------\n",
    "# Load Environment Variables\n",
    "# ---------------------------------------------------------------------------\n",
    "\n",
    "# Load environment variables from the .env file\n",
    "env_path = Path().resolve().parent.parent / \".env\"\n",
    "load_dotenv(dotenv_path=env_path)\n",
    "\n",
    "# Retrieve required environment variables\n",
    "PROJECT_CONNECTION_STRING = os.getenv(\"Azure_AI_PROJECT_CONNECTION_STRING\")\n",
    "\n",
    "# Ensure that required variables are set\n",
    "if not PROJECT_CONNECTION_STRING:\n",
    "    raise ValueError(\"PROJECT_CONNECTION_STRING is not set in the .env file.\")\n",
    "print(\"Environment variables loaded successfully.\")"
   ]
  },
  {
   "cell_type": "markdown",
   "metadata": {},
   "source": [
    "# Step 2: Defining and Testing the Agent"
   ]
  },
  {
   "cell_type": "markdown",
   "metadata": {},
   "source": [
    "```markdown\n",
    "# Defining the agent\n",
    "Next we define the agent. We won't add any tools yet. This is merely for validating that we have set up the correct keys and can call the service.\n",
    "\n",
    "\n",
    "```"
   ]
  },
  {
   "cell_type": "code",
   "execution_count": 4,
   "metadata": {},
   "outputs": [
    {
     "ename": "SyntaxError",
     "evalue": "invalid syntax. Perhaps you forgot a comma? (3419027078.py, line 39)",
     "output_type": "error",
     "traceback": [
      "\u001b[1;36m  Cell \u001b[1;32mIn[4], line 39\u001b[1;36m\u001b[0m\n\u001b[1;33m    print(\"User: \" f{user_input})\u001b[0m\n\u001b[1;37m          ^\u001b[0m\n\u001b[1;31mSyntaxError\u001b[0m\u001b[1;31m:\u001b[0m invalid syntax. Perhaps you forgot a comma?\n"
     ]
    }
   ],
   "source": [
    "# ---------------------------------------------------------------------------\n",
    "# Prepare the tool for the Azure AI Agent service.\n",
    "# ---------------------------------------------------------------------------\n",
    "\n",
    "def run_agent():\n",
    "    \"\"\"\n",
    "    Initializes and runs a simple Azure AI Agent for interactive conversation.\n",
    "    \"\"\"\n",
    "    # Create the Azure AI Projects client using Azure CLI authentication\n",
    "    client = AIProjectClient.from_connection_string(\n",
    "        credential=AzureCliCredential(),\n",
    "        conn_str=PROJECT_CONNECTION_STRING,\n",
    "    )\n",
    "    \n",
    "    # Instructions for the agent\n",
    "    instructions = \"\"\"\n",
    "    You are a helpful AI assistant. Engage in a conversation and provide informative responses.\n",
    "    \"\"\"\n",
    "    \n",
    "    with client:\n",
    "        # Create the agent using a predefined model (e.g., gpt-4o-mini)\n",
    "        # Option: Experiment with a different model such as gpt-4o (make sure the model is available under this name).\n",
    "        agent = client.agents.create_agent(\n",
    "            model=\"gpt-4o-mini\",  # Change to \"gpt-4\" or another supported model to see differences.\n",
    "            name=\"chat-agent\",\n",
    "            instructions=instructions\n",
    "        )\n",
    "\n",
    "        # Start a new conversation thread\n",
    "        # This thread holds the conversation history. By default, all messages accumulate here.\n",
    "        thread = client.agents.create_thread()\n",
    "        # store thread id to csv\n",
    "        thread_id = thread.id\n",
    "        print(f\"Created thread, thread ID: {thread_id}\")\n",
    "        print(\"Type 'exit' or 'quit' to end the conversation.\")\n",
    "        print(\"Please enter your message:\")\n",
    "        while True:\n",
    "            user_input = input(\"You: \")\n",
    "            print(\"User: \" f{user_input})\n",
    "            if user_input.lower() in [\"exit\", \"quit\"]:\n",
    "                print(\"Goodbye!\")\n",
    "                break\n",
    "\n",
    "            # Create a user message\n",
    "            client.agents.create_message(\n",
    "                thread_id=thread.id,\n",
    "                role=\"user\",\n",
    "                content=user_input\n",
    "            )\n",
    "\n",
    "            # Process the conversation\n",
    "            run = client.agents.create_and_process_run(\n",
    "                thread_id=thread.id,\n",
    "                assistant_id=agent.id\n",
    "            )\n",
    "\n",
    "            if run.status == \"failed\":\n",
    "                print(\"Assistant: Sorry, I encountered an error.\")\n",
    "            else:\n",
    "                # Retrieve the latest assistant message\n",
    "                messages = client.agents.list_messages(thread_id=thread.id)\n",
    "                for msg in messages[\"data\"]:\n",
    "                    if msg[\"role\"] == \"assistant\":\n",
    "                        for part in msg[\"content\"]:\n",
    "                            if part[\"type\"] == \"text\":\n",
    "                                print(\"Assistant:\", part[\"text\"][\"value\"])\n",
    "                                break\n",
    "\n",
    "        # Cleanup: Delete the agent after execution\n",
    "        client.agents.delete_agent(agent.id)\n",
    "        return thread_id\n",
    "\n",
    "# Run the interactive chat agent\n",
    "thread_id = run_agent()\n"
   ]
  },
  {
   "cell_type": "markdown",
   "metadata": {},
   "source": [
    "# Step 3: Retrieve the latest assistant message"
   ]
  },
  {
   "cell_type": "code",
   "execution_count": null,
   "metadata": {},
   "outputs": [],
   "source": [
    "client = AIProjectClient.from_connection_string(\n",
    "        credential=AzureCliCredential(),\n",
    "        conn_str=PROJECT_CONNECTION_STRING,\n",
    "    )\n",
    "    \n",
    "print(\"retrieving messages for thread id: \", thread_id)\n",
    "with client:\n",
    "        # Create the agent using a predefined model (e.g., gpt-4o-mini)\n",
    "        # Option: Experiment with a different model such as gpt-4o (make sure the model is available under this name).\n",
    "\n",
    "    messages = client.agents.list_messages(thread_id=thread_id)\n",
    "    if len(messages.data) == 0:\n",
    "        print(\"No messages found.\")\n",
    "        exit(0)\n",
    "    # The messages are following in the reverse order,\n",
    "    # we will iterate them and output only text contents.\n",
    "    for data_point in reversed(messages.data):\n",
    "        last_message_content = data_point.content[-1]\n",
    "        print(data_point.role, last_message_content)\n"
   ]
  }
 ],
 "metadata": {
  "kernelspec": {
   "display_name": "base",
   "language": "python",
   "name": "python3"
  },
  "language_info": {
   "codemirror_mode": {
    "name": "ipython",
    "version": 3
   },
   "file_extension": ".py",
   "mimetype": "text/x-python",
   "name": "python",
   "nbconvert_exporter": "python",
   "pygments_lexer": "ipython3",
   "version": "3.11.5"
  }
 },
 "nbformat": 4,
 "nbformat_minor": 2
}
